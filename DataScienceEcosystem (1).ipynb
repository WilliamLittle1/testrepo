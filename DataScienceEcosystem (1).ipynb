{
 "cells": [
  {
   "cell_type": "markdown",
   "id": "f60b4d84-304e-4e4b-bc48-ec687f3f8eba",
   "metadata": {},
   "source": [
    "**Objectives**\n",
    "- List Popular Languages for Data Science \n",
    "- List of popular libraries for Data Science \n",
    "- simple arithmetic"
   ]
  },
  {
   "cell_type": "markdown",
   "id": "517a8dd9-8b34-41a8-867d-9dc5b1840712",
   "metadata": {},
   "source": [
    "## Author \n",
    "William Little "
   ]
  },
  {
   "cell_type": "code",
   "execution_count": null,
   "id": "8616c0ba-732b-481f-ae84-2da60b8d2cac",
   "metadata": {},
   "outputs": [],
   "source": []
  }
 ],
 "metadata": {
  "kernelspec": {
   "display_name": "Python",
   "language": "python",
   "name": "conda-env-python-py"
  },
  "language_info": {
   "codemirror_mode": {
    "name": "ipython",
    "version": 3
   },
   "file_extension": ".py",
   "mimetype": "text/x-python",
   "name": "python",
   "nbconvert_exporter": "python",
   "pygments_lexer": "ipython3",
   "version": "3.7.12"
  }
 },
 "nbformat": 4,
 "nbformat_minor": 5
}
